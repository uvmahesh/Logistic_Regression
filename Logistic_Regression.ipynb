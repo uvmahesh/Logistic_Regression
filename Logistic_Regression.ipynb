{
 "cells": [
  {
   "cell_type": "code",
   "execution_count": 21,
   "id": "0567ba6d",
   "metadata": {},
   "outputs": [],
   "source": [
    "# !pip install seaborn "
   ]
  },
  {
   "cell_type": "code",
   "execution_count": 22,
   "id": "acc1360f",
   "metadata": {},
   "outputs": [],
   "source": [
    "import numpy as np\n",
    "import pandas as pd\n",
    "import matplotlib.pyplot as plt\n",
    "import seaborn as sns"
   ]
  },
  {
   "cell_type": "markdown",
   "id": "ac7cbe9e",
   "metadata": {},
   "source": [
    "select the SN file path,\n",
    "df.head() shows top 5 rows\n"
   ]
  },
  {
   "cell_type": "code",
   "execution_count": 23,
   "id": "0392498e",
   "metadata": {},
   "outputs": [
    {
     "data": {
      "text/html": [
       "<div>\n",
       "<style scoped>\n",
       "    .dataframe tbody tr th:only-of-type {\n",
       "        vertical-align: middle;\n",
       "    }\n",
       "\n",
       "    .dataframe tbody tr th {\n",
       "        vertical-align: top;\n",
       "    }\n",
       "\n",
       "    .dataframe thead th {\n",
       "        text-align: right;\n",
       "    }\n",
       "</style>\n",
       "<table border=\"1\" class=\"dataframe\">\n",
       "  <thead>\n",
       "    <tr style=\"text-align: right;\">\n",
       "      <th></th>\n",
       "      <th>Age</th>\n",
       "      <th>EstimatedSalary</th>\n",
       "      <th>Purchased</th>\n",
       "    </tr>\n",
       "  </thead>\n",
       "  <tbody>\n",
       "    <tr>\n",
       "      <th>0</th>\n",
       "      <td>19</td>\n",
       "      <td>19000</td>\n",
       "      <td>0</td>\n",
       "    </tr>\n",
       "    <tr>\n",
       "      <th>1</th>\n",
       "      <td>35</td>\n",
       "      <td>20000</td>\n",
       "      <td>0</td>\n",
       "    </tr>\n",
       "    <tr>\n",
       "      <th>2</th>\n",
       "      <td>26</td>\n",
       "      <td>43000</td>\n",
       "      <td>0</td>\n",
       "    </tr>\n",
       "    <tr>\n",
       "      <th>3</th>\n",
       "      <td>27</td>\n",
       "      <td>57000</td>\n",
       "      <td>0</td>\n",
       "    </tr>\n",
       "    <tr>\n",
       "      <th>4</th>\n",
       "      <td>19</td>\n",
       "      <td>76000</td>\n",
       "      <td>0</td>\n",
       "    </tr>\n",
       "  </tbody>\n",
       "</table>\n",
       "</div>"
      ],
      "text/plain": [
       "   Age  EstimatedSalary  Purchased\n",
       "0   19            19000          0\n",
       "1   35            20000          0\n",
       "2   26            43000          0\n",
       "3   27            57000          0\n",
       "4   19            76000          0"
      ]
     },
     "execution_count": 23,
     "metadata": {},
     "output_type": "execute_result"
    }
   ],
   "source": [
    "\n",
    "df=pd.read_csv(r\"SN.csv\")\n",
    "df.head()"
   ]
  },
  {
   "cell_type": "code",
   "execution_count": 24,
   "id": "ace1c746",
   "metadata": {},
   "outputs": [
    {
     "data": {
      "text/plain": [
       "(400, 3)"
      ]
     },
     "execution_count": 24,
     "metadata": {},
     "output_type": "execute_result"
    }
   ],
   "source": [
    "df.shape"
   ]
  },
  {
   "cell_type": "markdown",
   "id": "d9e61014",
   "metadata": {},
   "source": [
    "### checks if there are any null values in every row and col"
   ]
  },
  {
   "cell_type": "code",
   "execution_count": 25,
   "id": "45c6b8a8",
   "metadata": {},
   "outputs": [
    {
     "data": {
      "text/plain": [
       "Age                0\n",
       "EstimatedSalary    0\n",
       "Purchased          0\n",
       "dtype: int64"
      ]
     },
     "execution_count": 25,
     "metadata": {},
     "output_type": "execute_result"
    }
   ],
   "source": [
    "df.isnull().sum()"
   ]
  },
  {
   "cell_type": "markdown",
   "id": "26599bef",
   "metadata": {},
   "source": [
    "#### defining the columns of x = (n rows and 2(0,1) columns) and y = nrows and 1column"
   ]
  },
  {
   "cell_type": "code",
   "execution_count": 26,
   "id": "2160bd99",
   "metadata": {},
   "outputs": [],
   "source": [
    "x=df.iloc[:,0:2].values\n",
    "y=df.iloc[:,2].values\n"
   ]
  },
  {
   "cell_type": "code",
   "execution_count": 27,
   "id": "471d8501",
   "metadata": {},
   "outputs": [
    {
     "data": {
      "text/plain": [
       "150000"
      ]
     },
     "execution_count": 27,
     "metadata": {},
     "output_type": "execute_result"
    }
   ],
   "source": [
    "x.max()"
   ]
  },
  {
   "cell_type": "code",
   "execution_count": 28,
   "id": "69320369",
   "metadata": {},
   "outputs": [
    {
     "data": {
      "text/plain": [
       "(400, 2)"
      ]
     },
     "execution_count": 28,
     "metadata": {},
     "output_type": "execute_result"
    }
   ],
   "source": [
    "x.shape"
   ]
  },
  {
   "cell_type": "code",
   "execution_count": 29,
   "id": "f2830b0f",
   "metadata": {},
   "outputs": [
    {
     "data": {
      "text/plain": [
       "(400,)"
      ]
     },
     "execution_count": 29,
     "metadata": {},
     "output_type": "execute_result"
    }
   ],
   "source": [
    "y.shape"
   ]
  },
  {
   "cell_type": "markdown",
   "id": "af78b8a0",
   "metadata": {},
   "source": [
    "#### splits the testing data(25%) and training data(75%)"
   ]
  },
  {
   "cell_type": "code",
   "execution_count": 30,
   "id": "3ca70d0c",
   "metadata": {},
   "outputs": [],
   "source": [
    "from sklearn.model_selection import train_test_split\n",
    "x_train,x_test,y_train,y_test = train_test_split(x,y,test_size=0.25, random_state=3)"
   ]
  },
  {
   "cell_type": "code",
   "execution_count": 31,
   "id": "95566458",
   "metadata": {},
   "outputs": [
    {
     "data": {
      "text/plain": [
       "(100, 2)"
      ]
     },
     "execution_count": 31,
     "metadata": {},
     "output_type": "execute_result"
    }
   ],
   "source": [
    "x_test.shape"
   ]
  },
  {
   "cell_type": "code",
   "execution_count": 32,
   "id": "d4292538",
   "metadata": {},
   "outputs": [
    {
     "data": {
      "text/plain": [
       "(100,)"
      ]
     },
     "execution_count": 32,
     "metadata": {},
     "output_type": "execute_result"
    }
   ],
   "source": [
    "y_test.shape"
   ]
  },
  {
   "cell_type": "code",
   "execution_count": 33,
   "id": "503d5414",
   "metadata": {},
   "outputs": [
    {
     "data": {
      "text/plain": [
       "(300, 2)"
      ]
     },
     "execution_count": 33,
     "metadata": {},
     "output_type": "execute_result"
    }
   ],
   "source": [
    "x_train.shape"
   ]
  },
  {
   "cell_type": "code",
   "execution_count": 34,
   "id": "129ec13d",
   "metadata": {},
   "outputs": [
    {
     "data": {
      "text/plain": [
       "(300,)"
      ]
     },
     "execution_count": 34,
     "metadata": {},
     "output_type": "execute_result"
    }
   ],
   "source": [
    "y_train.shape"
   ]
  },
  {
   "cell_type": "markdown",
   "id": "5b29adac",
   "metadata": {},
   "source": [
    "#### By using StandardScaler it is used to find the mean and variance of the data"
   ]
  },
  {
   "cell_type": "code",
   "execution_count": 35,
   "id": "2df155db",
   "metadata": {},
   "outputs": [],
   "source": [
    "from sklearn.preprocessing import StandardScaler\n",
    "scaler = StandardScaler()\n",
    "scaler.fit(x_train)\n",
    "x_train = scaler.transform(x_train)\n",
    "x_test = scaler.transform(x_test)"
   ]
  },
  {
   "cell_type": "code",
   "execution_count": 36,
   "id": "9e2e903d",
   "metadata": {},
   "outputs": [
    {
     "data": {
      "text/plain": [
       "array([[-0.3421581 ,  1.27208252],\n",
       "       [-1.82711187,  0.37301368],\n",
       "       [-0.99182537, -0.46611725],\n",
       "       [-1.17744459,  0.28310679],\n",
       "       [ 1.88527256, -1.39515506],\n",
       "       [-0.52777732,  1.96136864],\n",
       "       [-1.08463498, -1.57496883],\n",
       "       [ 0.40031879,  1.15220668],\n",
       "       [-0.62058693,  0.13326198],\n",
       "       [ 0.77155723, -1.42512402],\n",
       "       [ 0.21469957, -0.67589998],\n",
       "       [ 2.07089178,  0.40298264],\n",
       "       [-0.89901576, -0.31627244],\n",
       "       [-1.64149265, -1.00555856],\n",
       "       [-0.3421581 , -0.79577583],\n",
       "       [ 0.86436684, -1.48506195],\n",
       "       [ 0.30750918,  0.31307575],\n",
       "       [-1.36306382,  0.37301368],\n",
       "       [ 0.40031879,  0.31307575],\n",
       "       [ 0.77155723,  0.37301368],\n",
       "       [ 0.21469957, -0.37621037],\n",
       "       [-1.27025421, -0.3462414 ],\n",
       "       [-0.06372927, -0.22636556],\n",
       "       [-1.08463498, -1.60493779],\n",
       "       [ 0.95717645, -1.18537233],\n",
       "       [-1.17744459,  0.31307575],\n",
       "       [ 0.30750918,  0.0433551 ],\n",
       "       [-0.43496771,  2.38093411],\n",
       "       [ 1.42122451,  0.37301368],\n",
       "       [-0.06372927, -0.52605517],\n",
       "       [ 1.04998606,  0.13326198],\n",
       "       [ 1.04998606, -0.91565167],\n",
       "       [-1.45587343, -0.1963966 ],\n",
       "       [-1.73430226,  0.01338614],\n",
       "       [-1.45587343, -1.27527921],\n",
       "       [ 0.02908034,  1.27208252],\n",
       "       [ 1.88527256,  0.94242395],\n",
       "       [-1.45587343, -1.54499987],\n",
       "       [ 0.12188996, -0.25633452],\n",
       "       [-0.24934849,  1.15220668],\n",
       "       [-1.73430226,  0.19319991],\n",
       "       [-0.06372927,  0.07332406],\n",
       "       [ 0.30750918,  0.07332406],\n",
       "       [-0.24934849,  0.07332406],\n",
       "       [-0.06372927, -0.49608621],\n",
       "       [ 1.32841489,  0.61276537],\n",
       "       [ 0.02908034,  0.31307575],\n",
       "       [ 0.21469957, -0.31627244],\n",
       "       [ 1.69965334,  1.90143072],\n",
       "       [-0.06372927,  0.16323094],\n",
       "       [-0.99182537,  0.4329516 ],\n",
       "       [ 1.69965334,  1.03233083],\n",
       "       [-0.24934849, -0.28630348],\n",
       "       [-0.06372927, -0.37621037],\n",
       "       [ 0.30750918,  0.07332406],\n",
       "       [-1.45587343, -0.43614829],\n",
       "       [ 1.14279567, -1.48506195],\n",
       "       [ 0.21469957,  0.07332406],\n",
       "       [-1.64149265,  0.37301368],\n",
       "       [-0.99182537, -0.37621037],\n",
       "       [ 1.51403412, -1.30524818],\n",
       "       [ 0.21469957,  0.16323094],\n",
       "       [-0.89901576,  0.52285848],\n",
       "       [ 0.40031879, -0.16642763],\n",
       "       [ 1.97808217,  0.40298264],\n",
       "       [ 0.77155723, -1.24531025],\n",
       "       [ 0.30750918, -0.7358379 ],\n",
       "       [ 0.86436684, -1.06549648],\n",
       "       [-0.71339654, -1.63490675],\n",
       "       [ 1.97808217,  0.55282745],\n",
       "       [-0.24934849, -0.94562064],\n",
       "       [-0.24934849, -0.25633452],\n",
       "       [-1.73430226,  0.46292056],\n",
       "       [ 0.40031879, -0.49608621],\n",
       "       [ 2.07089178, -0.82574479],\n",
       "       [ 0.4931284 ,  1.90143072],\n",
       "       [ 0.40031879,  0.10329302],\n",
       "       [ 1.23560528,  2.29102722],\n",
       "       [-0.80620615,  2.35096514],\n",
       "       [ 0.86436684,  1.12223772],\n",
       "       [-1.36306382, -1.48506195],\n",
       "       [ 1.79246295, -0.28630348],\n",
       "       [-0.71339654,  0.58279641],\n",
       "       [ 0.95717645,  0.79257914],\n",
       "       [-0.15653888,  1.45189629],\n",
       "       [ 0.67874762, -0.7358379 ],\n",
       "       [ 0.86436684, -0.61596206],\n",
       "       [-0.15653888,  2.2310893 ],\n",
       "       [-1.08463498,  0.49288952],\n",
       "       [-1.17744459, -1.42512402],\n",
       "       [-0.89901576,  0.28310679],\n",
       "       [ 0.95717645,  0.13326198],\n",
       "       [ 1.14279567, -1.00555856],\n",
       "       [-0.24934849,  0.22316887],\n",
       "       [ 2.07089178, -0.70586894],\n",
       "       [-1.54868304,  0.55282745],\n",
       "       [-0.62058693, -1.54499987],\n",
       "       [-0.06372927, -1.09546544],\n",
       "       [-1.64149265,  0.13326198],\n",
       "       [-0.06372927,  0.31307575],\n",
       "       [-0.24934849, -1.42512402],\n",
       "       [ 0.67874762,  0.28310679],\n",
       "       [-0.80620615,  0.40298264],\n",
       "       [ 1.79246295, -1.09546544],\n",
       "       [ 0.21469957,  0.0433551 ],\n",
       "       [ 1.79246295,  1.57177214],\n",
       "       [-0.71339654,  0.52285848],\n",
       "       [-0.43496771, -0.85571375],\n",
       "       [-0.24934849, -0.5859931 ],\n",
       "       [ 0.4931284 ,  1.27208252],\n",
       "       [-0.99182537,  0.61276537],\n",
       "       [-1.64149265, -1.39515506],\n",
       "       [ 1.04998606, -1.00555856],\n",
       "       [ 0.77155723,  1.42192733],\n",
       "       [-1.73430226, -1.33521714],\n",
       "       [ 0.95717645, -1.03552752],\n",
       "       [ 0.77155723, -1.12543441],\n",
       "       [-0.06372927,  0.0433551 ],\n",
       "       [ 0.02908034, -0.55602413],\n",
       "       [-1.64149265,  0.49288952],\n",
       "       [-0.89901576,  0.46292056],\n",
       "       [-1.08463498,  0.31307575],\n",
       "       [-0.24934849, -0.3462414 ],\n",
       "       [-0.15653888,  0.88248602],\n",
       "       [ 0.02908034, -0.43614829],\n",
       "       [-0.43496771, -0.01658283],\n",
       "       [-1.36306382, -1.24531025],\n",
       "       [ 1.14279567, -0.76580687],\n",
       "       [ 1.32841489,  2.05127553],\n",
       "       [-0.24934849, -1.33521714],\n",
       "       [ 0.86436684, -0.67589998],\n",
       "       [-0.06372927,  0.31307575],\n",
       "       [-0.43496771, -0.55602413],\n",
       "       [-0.52777732,  1.51183422],\n",
       "       [-0.06372927,  2.2310893 ],\n",
       "       [-0.71339654,  0.28310679],\n",
       "       [ 0.40031879,  0.61276537],\n",
       "       [-0.52777732, -1.54499987],\n",
       "       [ 0.21469957,  0.16323094],\n",
       "       [-0.62058693, -1.06549648],\n",
       "       [ 0.67874762, -1.30524818],\n",
       "       [ 1.04998606,  0.49288952],\n",
       "       [-1.08463498, -0.52605517],\n",
       "       [-0.24934849, -0.43614829],\n",
       "       [ 1.32841489,  1.33202045],\n",
       "       [-1.45587343,  0.34304471],\n",
       "       [-1.82711187, -0.76580687],\n",
       "       [-0.62058693,  1.45189629],\n",
       "       [ 0.30750918, -0.55602413],\n",
       "       [-1.17744459,  0.61276537],\n",
       "       [-1.08463498,  0.34304471],\n",
       "       [ 1.60684373, -0.91565167],\n",
       "       [ 0.95717645, -1.09546544],\n",
       "       [-0.24934849, -0.76580687],\n",
       "       [-0.24934849, -0.37621037],\n",
       "       [-0.99182537, -1.15540337],\n",
       "       [-1.27025421, -0.43614829],\n",
       "       [-0.62058693,  0.0433551 ],\n",
       "       [ 0.21469957, -0.25633452],\n",
       "       [-1.27025421,  0.58279641],\n",
       "       [-1.08463498, -1.18537233],\n",
       "       [ 0.40031879,  0.16323094],\n",
       "       [ 0.12188996,  1.93139968],\n",
       "       [ 1.04998606,  0.58279641],\n",
       "       [-0.06372927,  0.01338614],\n",
       "       [-0.24934849, -0.91565167],\n",
       "       [-1.27025421, -1.27527921],\n",
       "       [ 0.40031879, -0.46611725],\n",
       "       [ 0.02908034, -0.13645867],\n",
       "       [ 0.95717645,  2.05127553],\n",
       "       [ 0.12188996,  0.28310679],\n",
       "       [ 1.97808217,  1.81152383],\n",
       "       [ 0.02908034, -0.5859931 ],\n",
       "       [-1.54868304, -0.04655179],\n",
       "       [-0.99182537, -1.48506195],\n",
       "       [ 1.23560528,  1.93139968],\n",
       "       [ 1.69965334, -0.28630348],\n",
       "       [-0.99182537,  0.55282745],\n",
       "       [ 0.95717645, -1.21534129],\n",
       "       [ 0.86436684,  1.30205149],\n",
       "       [ 0.12188996,  0.10329302],\n",
       "       [ 0.95717645,  0.61276537],\n",
       "       [ 0.02908034,  0.0433551 ],\n",
       "       [-1.17744459, -1.09546544],\n",
       "       [ 1.32841489, -1.45509298],\n",
       "       [-1.08463498, -1.63490675],\n",
       "       [ 0.95717645,  1.93139968],\n",
       "       [-1.54868304, -1.60493779],\n",
       "       [-1.36306382, -0.1963966 ],\n",
       "       [ 0.95717645, -0.85571375],\n",
       "       [-1.36306382, -0.10648971],\n",
       "       [ 0.12188996,  0.0433551 ],\n",
       "       [ 2.07089178,  1.15220668],\n",
       "       [ 0.12188996,  1.57177214],\n",
       "       [ 1.42122451,  1.03233083],\n",
       "       [ 0.21469957, -0.37621037],\n",
       "       [-0.80620615,  0.40298264],\n",
       "       [ 0.40031879, -0.13645867],\n",
       "       [-0.3421581 , -0.79577583],\n",
       "       [-0.24934849, -1.27527921],\n",
       "       [-1.27025421, -1.39515506],\n",
       "       [-0.24934849,  0.0433551 ],\n",
       "       [-0.15653888,  1.69164799],\n",
       "       [-0.15653888,  0.16323094],\n",
       "       [ 1.79246295,  0.13326198],\n",
       "       [-0.89901576,  0.4329516 ],\n",
       "       [ 1.88527256, -0.94562064],\n",
       "       [-1.82711187, -0.52605517],\n",
       "       [ 0.21469957,  2.17115137],\n",
       "       [ 1.97808217, -0.82574479],\n",
       "       [-0.06372927,  0.13326198],\n",
       "       [ 0.12188996,  0.79257914],\n",
       "       [ 1.04998606, -0.13645867],\n",
       "       [ 0.86436684, -1.39515506],\n",
       "       [-0.24934849, -0.13645867],\n",
       "       [ 0.30750918,  0.07332406],\n",
       "       [ 1.51403412,  1.15220668],\n",
       "       [-0.06372927,  0.70267225],\n",
       "       [-0.15653888, -0.1963966 ],\n",
       "       [-1.73430226, -1.45509298],\n",
       "       [ 0.02908034, -0.5859931 ],\n",
       "       [ 0.02908034, -0.25633452],\n",
       "       [ 0.12188996, -0.31627244],\n",
       "       [-0.71339654,  1.39195837],\n",
       "       [-0.52777732,  1.42192733],\n",
       "       [ 0.12188996,  0.16323094],\n",
       "       [ 1.88527256, -0.67589998],\n",
       "       [-1.08463498,  1.45189629],\n",
       "       [ 0.21469957,  1.12223772],\n",
       "       [-0.43496771, -1.24531025],\n",
       "       [ 0.77155723, -0.31627244],\n",
       "       [-1.08463498, -0.79577583],\n",
       "       [ 1.14279567,  0.55282745],\n",
       "       [-0.15653888,  1.66167903],\n",
       "       [-0.06372927,  0.25313783],\n",
       "       [-0.71339654,  1.96136864],\n",
       "       [-1.82711187, -0.04655179],\n",
       "       [ 2.07089178,  0.97239291],\n",
       "       [-0.43496771, -0.79577583],\n",
       "       [ 0.95717645,  1.48186526],\n",
       "       [ 1.51403412,  0.01338614],\n",
       "       [-0.52777732,  0.91245499],\n",
       "       [ 1.88527256,  2.2310893 ],\n",
       "       [ 1.97808217,  2.20112034],\n",
       "       [-0.89901576, -0.9755896 ],\n",
       "       [ 0.77155723,  0.28310679],\n",
       "       [-0.15653888, -0.52605517],\n",
       "       [-0.24934849,  0.16323094],\n",
       "       [-0.24934849, -1.48506195],\n",
       "       [-0.06372927, -0.43614829],\n",
       "       [ 0.02908034,  0.0433551 ],\n",
       "       [-0.3421581 ,  0.07332406],\n",
       "       [-0.06372927,  2.29102722],\n",
       "       [ 2.07089178, -1.06549648],\n",
       "       [-0.43496771, -0.28630348],\n",
       "       [-1.82711187,  0.49288952],\n",
       "       [ 1.79246295, -1.30524818],\n",
       "       [-0.80620615, -0.79577583],\n",
       "       [-1.73430226, -1.51503091],\n",
       "       [-0.99182537, -0.3462414 ],\n",
       "       [-0.80620615, -0.79577583],\n",
       "       [ 1.60684373,  1.81152383],\n",
       "       [-0.62058693,  0.58279641],\n",
       "       [ 0.02908034,  1.30205149],\n",
       "       [ 0.67874762, -1.42512402],\n",
       "       [-0.06372927,  0.22316887],\n",
       "       [-0.24934849, -0.67589998],\n",
       "       [-0.15653888, -0.46611725],\n",
       "       [-0.89901576, -0.76580687],\n",
       "       [-0.3421581 ,  1.36198941],\n",
       "       [-0.52777732,  2.41090307],\n",
       "       [ 0.67874762, -1.12543441],\n",
       "       [-0.15653888, -1.09546544],\n",
       "       [-1.08463498, -1.03552752],\n",
       "       [-0.89901576,  1.6017411 ],\n",
       "       [ 0.12188996,  0.0433551 ],\n",
       "       [ 0.4931284 ,  1.78155487],\n",
       "       [-0.62058693, -0.04655179],\n",
       "       [ 1.42122451,  0.07332406],\n",
       "       [-1.08463498,  0.4329516 ],\n",
       "       [ 1.51403412,  1.03233083],\n",
       "       [ 1.88527256,  0.76261018],\n",
       "       [ 0.30750918, -0.52605517],\n",
       "       [-1.08463498, -1.63490675],\n",
       "       [-0.24934849,  0.28310679],\n",
       "       [ 1.04998606, -1.24531025],\n",
       "       [-0.80620615, -1.24531025],\n",
       "       [-0.80620615, -0.25633452],\n",
       "       [ 0.30750918, -0.31627244],\n",
       "       [-0.89901576, -0.31627244],\n",
       "       [-0.80620615, -0.67589998],\n",
       "       [ 0.40031879,  0.28310679],\n",
       "       [ 0.12188996,  1.93139968],\n",
       "       [ 0.30750918, -1.18537233],\n",
       "       [ 1.04998606,  0.55282745],\n",
       "       [ 0.30750918,  0.07332406],\n",
       "       [-0.43496771, -1.15540337],\n",
       "       [-0.24934849,  0.8225481 ],\n",
       "       [-0.62058693,  0.19319991],\n",
       "       [ 0.86436684, -0.5859931 ]])"
      ]
     },
     "execution_count": 36,
     "metadata": {},
     "output_type": "execute_result"
    }
   ],
   "source": [
    "x_train"
   ]
  },
  {
   "cell_type": "code",
   "execution_count": 37,
   "id": "d4ef536d",
   "metadata": {},
   "outputs": [
    {
     "data": {
      "text/plain": [
       "array([[ 0.77155723,  0.13326198],\n",
       "       [ 0.86436684, -1.33521714],\n",
       "       [ 1.97808217, -1.21534129],\n",
       "       [-1.64149265, -0.61596206],\n",
       "       [-0.99182537,  0.58279641],\n",
       "       [ 0.21469957,  0.25313783],\n",
       "       [ 1.23560528, -1.39515506],\n",
       "       [-1.36306382, -0.64593102],\n",
       "       [ 0.58593801, -0.91565167],\n",
       "       [-0.99182537, -1.57496883],\n",
       "       [ 0.30750918, -0.28630348],\n",
       "       [ 0.12188996, -0.82574479],\n",
       "       [ 0.77155723,  0.55282745],\n",
       "       [-0.24934849, -0.49608621],\n",
       "       [-1.08463498, -1.12543441],\n",
       "       [-1.27025421, -1.51503091],\n",
       "       [-0.71339654, -0.61596206],\n",
       "       [-1.27025421,  0.4329516 ],\n",
       "       [-0.06372927,  2.02130657],\n",
       "       [ 0.21469957, -0.28630348],\n",
       "       [-0.52777732,  0.49288952],\n",
       "       [-0.3421581 , -1.33521714],\n",
       "       [-0.80620615,  0.31307575],\n",
       "       [ 0.40031879, -0.13645867],\n",
       "       [-0.43496771,  1.30205149],\n",
       "       [-0.62058693, -0.3462414 ],\n",
       "       [ 0.40031879, -0.46611725],\n",
       "       [ 1.32841489,  2.41090307],\n",
       "       [ 0.30750918,  0.28310679],\n",
       "       [ 0.77155723, -1.39515506],\n",
       "       [ 0.58593801,  2.08124449],\n",
       "       [-0.89901576, -1.12543441],\n",
       "       [ 0.40031879,  1.03233083],\n",
       "       [ 0.77155723,  0.79257914],\n",
       "       [-0.24934849,  0.55282745],\n",
       "       [ 0.30750918, -0.52605517],\n",
       "       [-0.71339654,  1.12223772],\n",
       "       [ 0.02908034, -0.25633452],\n",
       "       [-0.24934849,  0.64273433],\n",
       "       [-1.64149265,  0.37301368],\n",
       "       [ 1.04998606,  2.14118241],\n",
       "       [-0.99182537,  2.02130657],\n",
       "       [-0.24934849,  2.32099618],\n",
       "       [ 0.12188996, -0.82574479],\n",
       "       [ 1.04998606, -1.24531025],\n",
       "       [ 0.40031879,  0.01338614],\n",
       "       [-1.73430226, -1.30524818],\n",
       "       [ 0.67874762,  1.8414928 ],\n",
       "       [-0.24934849,  0.16323094],\n",
       "       [-1.17744459,  0.52285848],\n",
       "       [-0.89901576, -0.43614829],\n",
       "       [-0.80620615,  0.16323094],\n",
       "       [-0.15653888, -0.28630348],\n",
       "       [-0.99182537,  0.79257914],\n",
       "       [ 0.86436684, -1.18537233],\n",
       "       [ 0.30750918,  0.52285848],\n",
       "       [-1.27025421, -0.43614829],\n",
       "       [ 0.86436684,  1.06229979],\n",
       "       [-0.62058693, -1.63490675],\n",
       "       [ 0.21469957, -0.13645867],\n",
       "       [-0.71339654, -1.57496883],\n",
       "       [ 1.32841489, -0.94562064],\n",
       "       [ 0.95717645,  2.14118241],\n",
       "       [-0.24934849,  0.10329302],\n",
       "       [-0.24934849, -0.31627244],\n",
       "       [-0.06372927,  0.28310679],\n",
       "       [ 0.86436684, -0.79577583],\n",
       "       [ 2.07089178, -0.82574479],\n",
       "       [-0.62058693, -0.10648971],\n",
       "       [ 1.60684373,  1.66167903],\n",
       "       [-1.54868304,  0.07332406],\n",
       "       [ 1.42122451, -1.06549648],\n",
       "       [-0.71339654, -0.22636556],\n",
       "       [-0.24934849, -1.39515506],\n",
       "       [ 0.12188996,  0.22316887],\n",
       "       [-0.24934849, -0.5859931 ],\n",
       "       [-1.08463498,  0.31307575],\n",
       "       [ 0.21469957, -0.37621037],\n",
       "       [-0.52777732, -1.54499987],\n",
       "       [-0.89901576,  0.58279641],\n",
       "       [ 1.42122451,  2.20112034],\n",
       "       [-0.24934849,  0.07332406],\n",
       "       [ 0.40031879,  2.38093411],\n",
       "       [ 0.67874762, -1.42512402],\n",
       "       [ 0.86436684, -0.55602413],\n",
       "       [ 0.40031879,  0.31307575],\n",
       "       [ 0.12188996,  1.09226876],\n",
       "       [ 0.02908034, -0.31627244],\n",
       "       [ 0.30750918, -0.1963966 ],\n",
       "       [-0.15653888, -0.5859931 ],\n",
       "       [-0.52777732,  1.42192733],\n",
       "       [-1.27025421, -1.12543441],\n",
       "       [-1.08463498,  0.07332406],\n",
       "       [ 0.86436684,  2.2310893 ],\n",
       "       [ 0.95717645, -1.09546544],\n",
       "       [ 0.95717645,  1.8414928 ],\n",
       "       [-0.71339654,  0.31307575],\n",
       "       [ 1.97808217,  0.19319991],\n",
       "       [ 0.77155723, -0.85571375],\n",
       "       [-0.99182537, -0.3462414 ]])"
      ]
     },
     "execution_count": 37,
     "metadata": {},
     "output_type": "execute_result"
    }
   ],
   "source": [
    "x_test"
   ]
  },
  {
   "cell_type": "markdown",
   "id": "abaa4b4d",
   "metadata": {},
   "source": [
    "### This code creates and trains a logistic regression classifier that learns from your training data and then can be used to classify new unseen data."
   ]
  },
  {
   "cell_type": "code",
   "execution_count": 38,
   "id": "f79e5e00",
   "metadata": {},
   "outputs": [
    {
     "data": {
      "text/plain": [
       "LogisticRegression()"
      ]
     },
     "execution_count": 38,
     "metadata": {},
     "output_type": "execute_result"
    }
   ],
   "source": [
    "from sklearn.linear_model import LogisticRegression\n",
    "model = LogisticRegression()\n",
    "model.fit(x_train,y_train)"
   ]
  },
  {
   "cell_type": "code",
   "execution_count": 39,
   "id": "c96dfb8a",
   "metadata": {},
   "outputs": [],
   "source": [
    "y_train_pred = model.predict(x_train)\n",
    "y_test_pred= model.predict(x_test)"
   ]
  },
  {
   "cell_type": "code",
   "execution_count": 40,
   "id": "e82411d6",
   "metadata": {},
   "outputs": [
    {
     "data": {
      "text/html": [
       "<div>\n",
       "<style scoped>\n",
       "    .dataframe tbody tr th:only-of-type {\n",
       "        vertical-align: middle;\n",
       "    }\n",
       "\n",
       "    .dataframe tbody tr th {\n",
       "        vertical-align: top;\n",
       "    }\n",
       "\n",
       "    .dataframe thead th {\n",
       "        text-align: right;\n",
       "    }\n",
       "</style>\n",
       "<table border=\"1\" class=\"dataframe\">\n",
       "  <thead>\n",
       "    <tr style=\"text-align: right;\">\n",
       "      <th></th>\n",
       "      <th>y_train</th>\n",
       "      <th>y_train_pred</th>\n",
       "    </tr>\n",
       "  </thead>\n",
       "  <tbody>\n",
       "    <tr>\n",
       "      <th>0</th>\n",
       "      <td>1</td>\n",
       "      <td>0</td>\n",
       "    </tr>\n",
       "    <tr>\n",
       "      <th>1</th>\n",
       "      <td>0</td>\n",
       "      <td>0</td>\n",
       "    </tr>\n",
       "    <tr>\n",
       "      <th>2</th>\n",
       "      <td>0</td>\n",
       "      <td>0</td>\n",
       "    </tr>\n",
       "    <tr>\n",
       "      <th>3</th>\n",
       "      <td>0</td>\n",
       "      <td>0</td>\n",
       "    </tr>\n",
       "    <tr>\n",
       "      <th>4</th>\n",
       "      <td>1</td>\n",
       "      <td>1</td>\n",
       "    </tr>\n",
       "    <tr>\n",
       "      <th>...</th>\n",
       "      <td>...</td>\n",
       "      <td>...</td>\n",
       "    </tr>\n",
       "    <tr>\n",
       "      <th>295</th>\n",
       "      <td>0</td>\n",
       "      <td>0</td>\n",
       "    </tr>\n",
       "    <tr>\n",
       "      <th>296</th>\n",
       "      <td>0</td>\n",
       "      <td>0</td>\n",
       "    </tr>\n",
       "    <tr>\n",
       "      <th>297</th>\n",
       "      <td>1</td>\n",
       "      <td>0</td>\n",
       "    </tr>\n",
       "    <tr>\n",
       "      <th>298</th>\n",
       "      <td>0</td>\n",
       "      <td>0</td>\n",
       "    </tr>\n",
       "    <tr>\n",
       "      <th>299</th>\n",
       "      <td>1</td>\n",
       "      <td>1</td>\n",
       "    </tr>\n",
       "  </tbody>\n",
       "</table>\n",
       "<p>300 rows × 2 columns</p>\n",
       "</div>"
      ],
      "text/plain": [
       "     y_train  y_train_pred\n",
       "0          1             0\n",
       "1          0             0\n",
       "2          0             0\n",
       "3          0             0\n",
       "4          1             1\n",
       "..       ...           ...\n",
       "295        0             0\n",
       "296        0             0\n",
       "297        1             0\n",
       "298        0             0\n",
       "299        1             1\n",
       "\n",
       "[300 rows x 2 columns]"
      ]
     },
     "execution_count": 40,
     "metadata": {},
     "output_type": "execute_result"
    }
   ],
   "source": [
    "pd.DataFrame({\"y_train\":y_train,\"y_train_pred\":y_train_pred})"
   ]
  },
  {
   "cell_type": "code",
   "execution_count": 41,
   "id": "6cf9b2b1",
   "metadata": {},
   "outputs": [],
   "source": [
    "# pd.DataFrame({\"x_train\":x_train,\"x_test_pred\":x_test_pred})"
   ]
  },
  {
   "cell_type": "code",
   "execution_count": 42,
   "id": "aa53b604",
   "metadata": {},
   "outputs": [
    {
     "data": {
      "text/plain": [
       "0.8433333333333334"
      ]
     },
     "execution_count": 42,
     "metadata": {},
     "output_type": "execute_result"
    }
   ],
   "source": [
    "model.score(x_train,y_train)"
   ]
  },
  {
   "cell_type": "code",
   "execution_count": 43,
   "id": "80a3bf8e",
   "metadata": {},
   "outputs": [
    {
     "data": {
      "text/plain": [
       "array([-1.08532986])"
      ]
     },
     "execution_count": 43,
     "metadata": {},
     "output_type": "execute_result"
    }
   ],
   "source": [
    "model.intercept_"
   ]
  },
  {
   "cell_type": "code",
   "execution_count": 44,
   "id": "f7a20a0a",
   "metadata": {},
   "outputs": [
    {
     "data": {
      "text/plain": [
       "array([[2.29936782, 1.16887417]])"
      ]
     },
     "execution_count": 44,
     "metadata": {},
     "output_type": "execute_result"
    }
   ],
   "source": [
    "model.coef_"
   ]
  },
  {
   "cell_type": "code",
   "execution_count": 45,
   "id": "dfbec14f",
   "metadata": {},
   "outputs": [],
   "source": [
    "# model.predict(x_train)"
   ]
  },
  {
   "cell_type": "code",
   "execution_count": 46,
   "id": "87c63b69",
   "metadata": {},
   "outputs": [
    {
     "data": {
      "text/plain": [
       "0.84"
      ]
     },
     "execution_count": 46,
     "metadata": {},
     "output_type": "execute_result"
    }
   ],
   "source": [
    "model.score(x_test,y_test)"
   ]
  },
  {
   "cell_type": "markdown",
   "id": "348e8e15",
   "metadata": {},
   "source": [
    "### Accuracy of the model"
   ]
  },
  {
   "cell_type": "code",
   "execution_count": 47,
   "id": "e54ac05a",
   "metadata": {},
   "outputs": [
    {
     "name": "stdout",
     "output_type": "stream",
     "text": [
      "0.8433333333333334\n"
     ]
    }
   ],
   "source": [
    "from sklearn.metrics import accuracy_score\n",
    "accuracy_score=accuracy_score(y_train,y_train_pred)\n",
    "print(accuracy_score)"
   ]
  },
  {
   "cell_type": "markdown",
   "id": "c7640bc0",
   "metadata": {},
   "source": [
    "#### The code plots a scatter plot of the training data using the first two features (Age and Salary), with points colored black and red based on their class labels to visualize class separation before applying logistic regression."
   ]
  },
  {
   "cell_type": "code",
   "execution_count": 48,
   "id": "dee18015",
   "metadata": {},
   "outputs": [
    {
     "data": {
      "image/png": "[encoded data removed]",
      "text/plain": [
       "<Figure size 432x432 with 1 Axes>"
      ]
     },
     "metadata": {
      "needs_background": "light"
     },
     "output_type": "display_data"
    }
   ],
   "source": [
    "plt.figure(figsize=(6,6))\n",
    "sns.scatterplot(x=x_train[:,0],y=x_train[:,1],hue=y_train,palette=[\"black\",\"red\"])\n",
    "plt.title(\"Before Logisitc Regression\")\n",
    "plt.xlabel(\"Age\")\n",
    "plt.ylabel(\"Salary\")\n",
    "plt.show()"
   ]
  },
  {
   "cell_type": "code",
   "execution_count": 49,
   "id": "0e19ed74",
   "metadata": {},
   "outputs": [
    {
     "data": {
      "image/png": "[encoded data removed]",
      "text/plain": [
       "<Figure size 432x432 with 1 Axes>"
      ]
     },
     "metadata": {
      "needs_background": "light"
     },
     "output_type": "display_data"
    }
   ],
   "source": [
    "plt.figure(figsize=(6,6))\n",
    "sns.scatterplot(x=x_train[:,0],y=x_train[:,1],hue=y_train_pred,palette=[\"black\",\"red\"])\n",
    "plt.title(\"After Logistic Regression\")\n",
    "plt.xlabel(\"Age\")\n",
    "plt.ylabel(\"Salary\")\n",
    "plt.show()"
   ]
  },
  {
   "cell_type": "markdown",
   "id": "07ebc4eb",
   "metadata": {},
   "source": [
    "### Testing Data"
   ]
  },
  {
   "cell_type": "code",
   "execution_count": 53,
   "id": "0168570e",
   "metadata": {},
   "outputs": [
    {
     "data": {
      "image/png": "[encoded data removed]",
      "text/plain": [
       "<Figure size 432x432 with 1 Axes>"
      ]
     },
     "metadata": {
      "needs_background": "light"
     },
     "output_type": "display_data"
    }
   ],
   "source": [
    "plt.figure(figsize=(6,6))\n",
    "sns.scatterplot(x=x_test[:,0],y=x_test[:,1],hue=y_test,palette=[\"orange\",\"green\"])\n",
    "plt.title(\"Testing Data Before Logistic Regression\")\n",
    "plt.xlabel(\"Age\")\n",
    "plt.ylabel(\"Salary\")\n",
    "plt.show()"
   ]
  },
  {
   "cell_type": "code",
   "execution_count": 54,
   "id": "0d15fc2a",
   "metadata": {},
   "outputs": [
    {
     "data": {
      "image/png": "[encoded data removed]",
      "text/plain": [
       "<Figure size 432x432 with 1 Axes>"
      ]
     },
     "metadata": {
      "needs_background": "light"
     },
     "output_type": "display_data"
    }
   ],
   "source": [
    "plt.figure(figsize=(6,6))\n",
    "sns.scatterplot(x=x_test[:,0],y=x_test[:,1],hue=y_test_pred,palette=[\"orange\",\"green\"])\n",
    "plt.title(\"Testing Data After Logistic Regression\")\n",
    "plt.xlabel(\"Age\")\n",
    "plt.ylabel(\"Salary\")\n",
    "plt.show()"
   ]
  },
  {
   "cell_type": "code",
   "execution_count": null,
   "id": "81779fe5",
   "metadata": {},
   "outputs": [],
   "source": []
  }
 ],
 "metadata": {
  "kernelspec": {
   "display_name": "base",
   "language": "python",
   "name": "python3"
  },
  "language_info": {
   "codemirror_mode": {
    "name": "ipython",
    "version": 3
   },
   "file_extension": ".py",
   "mimetype": "text/x-python",
   "name": "python",
   "nbconvert_exporter": "python",
   "pygments_lexer": "ipython3",
   "version": "3.8.5"
  }
 },
 "nbformat": 4,
 "nbformat_minor": 5
}
